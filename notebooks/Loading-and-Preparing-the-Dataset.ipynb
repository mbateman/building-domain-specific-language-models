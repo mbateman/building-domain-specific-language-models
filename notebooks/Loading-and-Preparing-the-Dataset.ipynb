{
 "cells": [
  {
   "cell_type": "markdown",
   "id": "a4590a82",
   "metadata": {},
   "source": [
    "# Loading and Preparing the Dataset"
   ]
  },
  {
   "cell_type": "code",
   "execution_count": 9,
   "id": "53a1af2c",
   "metadata": {},
   "outputs": [],
   "source": [
    "import pandas as pd\n",
    "import re\n",
    "from nltk.corpus import stopwords\n",
    "from bs4 import BeautifulSoup\n",
    "from nltk.tokenize.treebank import TreebankWordTokenizer, TreebankWordDetokenizer"
   ]
  },
  {
   "cell_type": "markdown",
   "id": "99f6bfc8",
   "metadata": {},
   "source": [
    "## Load the dataset into a pandas dataframe"
   ]
  },
  {
   "cell_type": "code",
   "execution_count": 10,
   "id": "5d716c91",
   "metadata": {},
   "outputs": [],
   "source": [
    "df = pd.read_csv('~/data/stackexchange_812k.csv')"
   ]
  },
  {
   "cell_type": "code",
   "execution_count": 11,
   "id": "4053e8d3",
   "metadata": {},
   "outputs": [
    {
     "name": "stdout",
     "output_type": "stream",
     "text": [
      "<class 'pandas.core.frame.DataFrame'>\n",
      "RangeIndex: 812132 entries, 0 to 812131\n",
      "Data columns (total 5 columns):\n",
      " #   Column      Non-Null Count   Dtype  \n",
      "---  ------      --------------   -----  \n",
      " 0   post_id     812132 non-null  int64  \n",
      " 1   parent_id   75535 non-null   float64\n",
      " 2   comment_id  553076 non-null  float64\n",
      " 3   text        812132 non-null  object \n",
      " 4   category    812132 non-null  object \n",
      "dtypes: float64(2), int64(1), object(2)\n",
      "memory usage: 31.0+ MB\n"
     ]
    }
   ],
   "source": [
    "df.info()"
   ]
  },
  {
   "cell_type": "code",
   "execution_count": 12,
   "id": "60de3aa9",
   "metadata": {},
   "outputs": [
    {
     "data": {
      "text/html": [
       "<div>\n",
       "<style scoped>\n",
       "    .dataframe tbody tr th:only-of-type {\n",
       "        vertical-align: middle;\n",
       "    }\n",
       "\n",
       "    .dataframe tbody tr th {\n",
       "        vertical-align: top;\n",
       "    }\n",
       "\n",
       "    .dataframe thead th {\n",
       "        text-align: right;\n",
       "    }\n",
       "</style>\n",
       "<table border=\"1\" class=\"dataframe\">\n",
       "  <thead>\n",
       "    <tr style=\"text-align: right;\">\n",
       "      <th></th>\n",
       "      <th>post_id</th>\n",
       "      <th>parent_id</th>\n",
       "      <th>comment_id</th>\n",
       "      <th>text</th>\n",
       "      <th>category</th>\n",
       "    </tr>\n",
       "  </thead>\n",
       "  <tbody>\n",
       "    <tr>\n",
       "      <th>0</th>\n",
       "      <td>1</td>\n",
       "      <td>NaN</td>\n",
       "      <td>NaN</td>\n",
       "      <td>Eliciting priors from experts</td>\n",
       "      <td>title</td>\n",
       "    </tr>\n",
       "    <tr>\n",
       "      <th>1</th>\n",
       "      <td>2</td>\n",
       "      <td>NaN</td>\n",
       "      <td>NaN</td>\n",
       "      <td>What is normality?</td>\n",
       "      <td>title</td>\n",
       "    </tr>\n",
       "    <tr>\n",
       "      <th>2</th>\n",
       "      <td>3</td>\n",
       "      <td>NaN</td>\n",
       "      <td>NaN</td>\n",
       "      <td>What are some valuable Statistical Analysis op...</td>\n",
       "      <td>title</td>\n",
       "    </tr>\n",
       "    <tr>\n",
       "      <th>3</th>\n",
       "      <td>4</td>\n",
       "      <td>NaN</td>\n",
       "      <td>NaN</td>\n",
       "      <td>Assessing the significance of differences in d...</td>\n",
       "      <td>title</td>\n",
       "    </tr>\n",
       "    <tr>\n",
       "      <th>4</th>\n",
       "      <td>6</td>\n",
       "      <td>NaN</td>\n",
       "      <td>NaN</td>\n",
       "      <td>The Two Cultures: statistics vs. machine learn...</td>\n",
       "      <td>title</td>\n",
       "    </tr>\n",
       "  </tbody>\n",
       "</table>\n",
       "</div>"
      ],
      "text/plain": [
       "   post_id  parent_id  comment_id  \\\n",
       "0        1        NaN         NaN   \n",
       "1        2        NaN         NaN   \n",
       "2        3        NaN         NaN   \n",
       "3        4        NaN         NaN   \n",
       "4        6        NaN         NaN   \n",
       "\n",
       "                                                text category  \n",
       "0                      Eliciting priors from experts    title  \n",
       "1                                 What is normality?    title  \n",
       "2  What are some valuable Statistical Analysis op...    title  \n",
       "3  Assessing the significance of differences in d...    title  \n",
       "4  The Two Cultures: statistics vs. machine learn...    title  "
      ]
     },
     "execution_count": 12,
     "metadata": {},
     "output_type": "execute_result"
    }
   ],
   "source": [
    "df.head()"
   ]
  },
  {
   "cell_type": "markdown",
   "id": "2630ba53",
   "metadata": {},
   "source": [
    "## Use regular expressions to remove elements that are not words such as HTML tags, LaTeX expressions, URLs, digits, line returns, and so on."
   ]
  },
  {
   "cell_type": "code",
   "execution_count": 13,
   "id": "085bc508",
   "metadata": {},
   "outputs": [],
   "source": [
    "REPLACE_BY_SPACE_RE = re.compile('[/(){}\\[\\]\\|@,;]')\n",
    "BAD_SYMBOLS_RE = re.compile('[^0-9a-z #+_]')\n",
    "LATEX_RE = re.compile('\\$|\\$$|\\\\\\\\')\n",
    "STOPWORDS = set(stopwords.words('english'))\n",
    "\n",
    "def clean_text(text):\n",
    "    \"\"\"\n",
    "        text: a string\n",
    "        \n",
    "        return: modified initial string\n",
    "    \"\"\"\n",
    "    text = BeautifulSoup(text, \"lxml\").text # HTML decoding\n",
    "    text = text.lower() # lowercase text\n",
    "    text = REPLACE_BY_SPACE_RE.sub(' ', text) # replace REPLACE_BY_SPACE_RE symbols by space in text\n",
    "    text = BAD_SYMBOLS_RE.sub('', text) # delete symbols which are in BAD_SYMBOLS_RE from text\n",
    "    text = LATEX_RE.sub('', text)\n",
    "    # text = ' '.join(word for word in text.split() if word not in STOPWORDS) # delete stopwors from text\n",
    "    return text"
   ]
  },
  {
   "cell_type": "code",
   "execution_count": 14,
   "id": "6e858e37",
   "metadata": {},
   "outputs": [
    {
     "data": {
      "text/plain": [
       "'formulate hypotheses when mu_a  mu_b'"
      ]
     },
     "execution_count": 14,
     "metadata": {},
     "output_type": "execute_result"
    }
   ],
   "source": [
    "clean_text('Formulate hypotheses when $\\mu_A < \\mu_B$')"
   ]
  },
  {
   "cell_type": "code",
   "execution_count": 38,
   "id": "dfbe3e66",
   "metadata": {},
   "outputs": [
    {
     "data": {
      "text/plain": [
       "2530      Formulate hypotheses when $\\mu_A < \\mu_B$ is d...\n",
       "4791      WinBUGS error with zero values in binomial dis...\n",
       "6959      Sample size to tell if more than X% of the pop...\n",
       "18051     $\\sum_{n=1}^{\\infty} p_n < \\infty \\to \\prod_{n...\n",
       "24545     If $F_X(z) > F_Y (z)$ for all $z\\in \\mathbb{R}...\n",
       "                                ...                        \n",
       "809195    @GeoMatt22 You're right. There are some concer...\n",
       "809468    One other note: [tag:change-point] detection w...\n",
       "809819    The curly braces might be taken to imply an un...\n",
       "810231    @StephanKolassa, I'm happy to vote to reopen t...\n",
       "810639    Would you mind adding `set.seed(<some number>)...\n",
       "Name: text, Length: 168532, dtype: object"
      ]
     },
     "execution_count": 38,
     "metadata": {},
     "output_type": "execute_result"
    }
   ],
   "source": [
    "df[df.text.str.contains('<[^<]+?>')].text"
   ]
  },
  {
   "cell_type": "code",
   "execution_count": 39,
   "id": "10e180e3",
   "metadata": {},
   "outputs": [
    {
     "data": {
      "text/plain": [
       "91756     <p>The R-project</p>\\n\\n<p><a href=\"http://www...\n",
       "91757     <p>Last year, I read a blog post from <a href=...\n",
       "91760     <p><a href=\"http://incanter.org/\">Incanter</a>...\n",
       "91762     <p>Is there a good, modern treatment covering ...\n",
       "91763     <p>See my response to <a href=\"https://stackov...\n",
       "                                ...                        \n",
       "812044    Suddenly I am confused, I think the statistic ...\n",
       "812064    Since a likelihood is typically constructed fr...\n",
       "812073    (+1)  And the fact that Google Trends (https:/...\n",
       "812091    Hint: regress any data you like against the (C...\n",
       "812115    [This answer](https://stats.stackexchange.com/...\n",
       "Name: text, Length: 120559, dtype: object"
      ]
     },
     "execution_count": 39,
     "metadata": {},
     "output_type": "execute_result"
    }
   ],
   "source": [
    "df[df.text.str.contains('http')].text"
   ]
  },
  {
   "cell_type": "code",
   "execution_count": 50,
   "id": "3fe1b743",
   "metadata": {},
   "outputs": [
    {
     "data": {
      "text/plain": [
       "'<p>The R-project</p>\\n\\n<p><a href=\"http://www.r-project.org/\">http://www.r-project.org/</a></p>\\n\\n<p>R is valuable and significant because it was the first widely-accepted Open-Source alternative to big-box packages.  It\\'s mature, well supported, and a standard within many scientific communities.</p>\\n\\n<ul>\\n<li><a href=\"http://www.inside-r.org/why-use-r\">Some reasons why it is useful and valuable</a> </li>\\n<li>There are some nice tutorials <a href=\"http://gettinggeneticsdone.blogspot.com/search/label/ggplot2\">here</a>.</li>\\n</ul>\\n'"
      ]
     },
     "execution_count": 50,
     "metadata": {},
     "output_type": "execute_result"
    }
   ],
   "source": [
    "df[df.text.str.contains('[/(){}\\[\\]\\|@,;]')].text[91756]"
   ]
  },
  {
   "cell_type": "code",
   "execution_count": 76,
   "id": "c03c64f7",
   "metadata": {},
   "outputs": [
    {
     "data": {
      "text/plain": [
       "'10 11'"
      ]
     },
     "execution_count": 76,
     "metadata": {},
     "output_type": "execute_result"
    }
   ],
   "source": [
    "re.sub('^\\$|\\$$|\\\\\\\\', '', '$\\\\10 11\\\\$')"
   ]
  },
  {
   "cell_type": "code",
   "execution_count": 160,
   "id": "f809834e",
   "metadata": {},
   "outputs": [
    {
     "data": {
      "text/html": [
       "<div>\n",
       "<style scoped>\n",
       "    .dataframe tbody tr th:only-of-type {\n",
       "        vertical-align: middle;\n",
       "    }\n",
       "\n",
       "    .dataframe tbody tr th {\n",
       "        vertical-align: top;\n",
       "    }\n",
       "\n",
       "    .dataframe thead th {\n",
       "        text-align: right;\n",
       "    }\n",
       "</style>\n",
       "<table border=\"1\" class=\"dataframe\">\n",
       "  <thead>\n",
       "    <tr style=\"text-align: right;\">\n",
       "      <th></th>\n",
       "      <th>post_id</th>\n",
       "      <th>parent_id</th>\n",
       "      <th>comment_id</th>\n",
       "      <th>text</th>\n",
       "      <th>category</th>\n",
       "    </tr>\n",
       "  </thead>\n",
       "  <tbody>\n",
       "    <tr>\n",
       "      <th>6090</th>\n",
       "      <td>28146</td>\n",
       "      <td>NaN</td>\n",
       "      <td>NaN</td>\n",
       "      <td>is it true that p -z leq z leq z = alpha = 2 p...</td>\n",
       "      <td>title</td>\n",
       "    </tr>\n",
       "    <tr>\n",
       "      <th>8259</th>\n",
       "      <td>37720</td>\n",
       "      <td>NaN</td>\n",
       "      <td>NaN</td>\n",
       "      <td>how do i reject or fail to reject the null hyp...</td>\n",
       "      <td>title</td>\n",
       "    </tr>\n",
       "    <tr>\n",
       "      <th>20893</th>\n",
       "      <td>185024</td>\n",
       "      <td>NaN</td>\n",
       "      <td>NaN</td>\n",
       "      <td>if mathbb e x = k and text var x = 0 is prleft...</td>\n",
       "      <td>title</td>\n",
       "    </tr>\n",
       "    <tr>\n",
       "      <th>25261</th>\n",
       "      <td>406447</td>\n",
       "      <td>NaN</td>\n",
       "      <td>NaN</td>\n",
       "      <td>why does mathrm e e^ -x = 0 imply mathrm p x =...</td>\n",
       "      <td>title</td>\n",
       "    </tr>\n",
       "    <tr>\n",
       "      <th>25492</th>\n",
       "      <td>407376</td>\n",
       "      <td>NaN</td>\n",
       "      <td>NaN</td>\n",
       "      <td>in exact matching in causal inference why is i...</td>\n",
       "      <td>title</td>\n",
       "    </tr>\n",
       "    <tr>\n",
       "      <th>...</th>\n",
       "      <td>...</td>\n",
       "      <td>...</td>\n",
       "      <td>...</td>\n",
       "      <td>...</td>\n",
       "      <td>...</td>\n",
       "    </tr>\n",
       "    <tr>\n",
       "      <th>804847</th>\n",
       "      <td>273557</td>\n",
       "      <td>NaN</td>\n",
       "      <td>524594.0</td>\n",
       "      <td>in a \"plain vanilla\" mixture of regressions pr...</td>\n",
       "      <td>comment</td>\n",
       "    </tr>\n",
       "    <tr>\n",
       "      <th>808042</th>\n",
       "      <td>276349</td>\n",
       "      <td>NaN</td>\n",
       "      <td>530078.0</td>\n",
       "      <td>thanks for pointing that out alex. allow me to...</td>\n",
       "      <td>comment</td>\n",
       "    </tr>\n",
       "    <tr>\n",
       "      <th>808049</th>\n",
       "      <td>276349</td>\n",
       "      <td>NaN</td>\n",
       "      <td>654080.0</td>\n",
       "      <td>did - if y is a continuous variable then does ...</td>\n",
       "      <td>comment</td>\n",
       "    </tr>\n",
       "    <tr>\n",
       "      <th>808925</th>\n",
       "      <td>277122</td>\n",
       "      <td>NaN</td>\n",
       "      <td>531381.0</td>\n",
       "      <td>no? i don't understand what you're doing there...</td>\n",
       "      <td>comment</td>\n",
       "    </tr>\n",
       "    <tr>\n",
       "      <th>811757</th>\n",
       "      <td>279691</td>\n",
       "      <td>NaN</td>\n",
       "      <td>535968.0</td>\n",
       "      <td>do the standard deviations s1 = 2s2 = 2s3 matter?</td>\n",
       "      <td>comment</td>\n",
       "    </tr>\n",
       "  </tbody>\n",
       "</table>\n",
       "<p>1946 rows × 5 columns</p>\n",
       "</div>"
      ],
      "text/plain": [
       "        post_id  parent_id  comment_id  \\\n",
       "6090      28146        NaN         NaN   \n",
       "8259      37720        NaN         NaN   \n",
       "20893    185024        NaN         NaN   \n",
       "25261    406447        NaN         NaN   \n",
       "25492    407376        NaN         NaN   \n",
       "...         ...        ...         ...   \n",
       "804847   273557        NaN    524594.0   \n",
       "808042   276349        NaN    530078.0   \n",
       "808049   276349        NaN    654080.0   \n",
       "808925   277122        NaN    531381.0   \n",
       "811757   279691        NaN    535968.0   \n",
       "\n",
       "                                                     text category  \n",
       "6090    is it true that p -z leq z leq z = alpha = 2 p...    title  \n",
       "8259    how do i reject or fail to reject the null hyp...    title  \n",
       "20893   if mathbb e x = k and text var x = 0 is prleft...    title  \n",
       "25261   why does mathrm e e^ -x = 0 imply mathrm p x =...    title  \n",
       "25492   in exact matching in causal inference why is i...    title  \n",
       "...                                                   ...      ...  \n",
       "804847  in a \"plain vanilla\" mixture of regressions pr...  comment  \n",
       "808042  thanks for pointing that out alex. allow me to...  comment  \n",
       "808049  did - if y is a continuous variable then does ...  comment  \n",
       "808925  no? i don't understand what you're doing there...  comment  \n",
       "811757  do the standard deviations s1 = 2s2 = 2s3 matter?  comment  \n",
       "\n",
       "[1946 rows x 5 columns]"
      ]
     },
     "execution_count": 160,
     "metadata": {},
     "output_type": "execute_result"
    }
   ],
   "source": [
    "df[df.text.str.contains('=\\s+\\w+\\s+=')]"
   ]
  },
  {
   "cell_type": "code",
   "execution_count": 51,
   "id": "8e97e439",
   "metadata": {},
   "outputs": [
    {
     "data": {
      "text/plain": [
       "'Formulate hypotheses when $\\\\mu_A < \\\\mu_B$ is different from $\\\\mu_A > \\\\mu_B$'"
      ]
     },
     "execution_count": 51,
     "metadata": {},
     "output_type": "execute_result"
    }
   ],
   "source": [
    "df.text.apply(lambda x: re.sub('[/(){}\\[\\]\\|@,;]', '', x))[2530]"
   ]
  },
  {
   "cell_type": "code",
   "execution_count": 15,
   "id": "137f9768",
   "metadata": {},
   "outputs": [],
   "source": [
    "df.text = df.text.apply(clean_text)"
   ]
  },
  {
   "cell_type": "code",
   "execution_count": 16,
   "id": "a7679d8f",
   "metadata": {},
   "outputs": [
    {
     "data": {
      "text/html": [
       "<div>\n",
       "<style scoped>\n",
       "    .dataframe tbody tr th:only-of-type {\n",
       "        vertical-align: middle;\n",
       "    }\n",
       "\n",
       "    .dataframe tbody tr th {\n",
       "        vertical-align: top;\n",
       "    }\n",
       "\n",
       "    .dataframe thead th {\n",
       "        text-align: right;\n",
       "    }\n",
       "</style>\n",
       "<table border=\"1\" class=\"dataframe\">\n",
       "  <thead>\n",
       "    <tr style=\"text-align: right;\">\n",
       "      <th></th>\n",
       "      <th>post_id</th>\n",
       "      <th>parent_id</th>\n",
       "      <th>comment_id</th>\n",
       "      <th>text</th>\n",
       "      <th>category</th>\n",
       "    </tr>\n",
       "  </thead>\n",
       "  <tbody>\n",
       "    <tr>\n",
       "      <th>0</th>\n",
       "      <td>1</td>\n",
       "      <td>NaN</td>\n",
       "      <td>NaN</td>\n",
       "      <td>eliciting priors from experts</td>\n",
       "      <td>title</td>\n",
       "    </tr>\n",
       "    <tr>\n",
       "      <th>1</th>\n",
       "      <td>2</td>\n",
       "      <td>NaN</td>\n",
       "      <td>NaN</td>\n",
       "      <td>what is normality</td>\n",
       "      <td>title</td>\n",
       "    </tr>\n",
       "    <tr>\n",
       "      <th>2</th>\n",
       "      <td>3</td>\n",
       "      <td>NaN</td>\n",
       "      <td>NaN</td>\n",
       "      <td>what are some valuable statistical analysis op...</td>\n",
       "      <td>title</td>\n",
       "    </tr>\n",
       "    <tr>\n",
       "      <th>3</th>\n",
       "      <td>4</td>\n",
       "      <td>NaN</td>\n",
       "      <td>NaN</td>\n",
       "      <td>assessing the significance of differences in d...</td>\n",
       "      <td>title</td>\n",
       "    </tr>\n",
       "    <tr>\n",
       "      <th>4</th>\n",
       "      <td>6</td>\n",
       "      <td>NaN</td>\n",
       "      <td>NaN</td>\n",
       "      <td>the two cultures statistics vs machine learning</td>\n",
       "      <td>title</td>\n",
       "    </tr>\n",
       "    <tr>\n",
       "      <th>...</th>\n",
       "      <td>...</td>\n",
       "      <td>...</td>\n",
       "      <td>...</td>\n",
       "      <td>...</td>\n",
       "      <td>...</td>\n",
       "    </tr>\n",
       "    <tr>\n",
       "      <th>812127</th>\n",
       "      <td>279994</td>\n",
       "      <td>NaN</td>\n",
       "      <td>536471.0</td>\n",
       "      <td>it does run  and gives very valid looking esti...</td>\n",
       "      <td>comment</td>\n",
       "    </tr>\n",
       "    <tr>\n",
       "      <th>812128</th>\n",
       "      <td>279998</td>\n",
       "      <td>NaN</td>\n",
       "      <td>536439.0</td>\n",
       "      <td>it seems to me that you are correct  the doubl...</td>\n",
       "      <td>comment</td>\n",
       "    </tr>\n",
       "    <tr>\n",
       "      <th>812129</th>\n",
       "      <td>279998</td>\n",
       "      <td>NaN</td>\n",
       "      <td>536514.0</td>\n",
       "      <td>it wouldnt be the first time a grader has miss...</td>\n",
       "      <td>comment</td>\n",
       "    </tr>\n",
       "    <tr>\n",
       "      <th>812130</th>\n",
       "      <td>279999</td>\n",
       "      <td>NaN</td>\n",
       "      <td>536802.0</td>\n",
       "      <td>the basic idea is to compare the clustering co...</td>\n",
       "      <td>comment</td>\n",
       "    </tr>\n",
       "    <tr>\n",
       "      <th>812131</th>\n",
       "      <td>279999</td>\n",
       "      <td>NaN</td>\n",
       "      <td>542550.0</td>\n",
       "      <td>as per your other question  your data does not...</td>\n",
       "      <td>comment</td>\n",
       "    </tr>\n",
       "  </tbody>\n",
       "</table>\n",
       "<p>812132 rows × 5 columns</p>\n",
       "</div>"
      ],
      "text/plain": [
       "        post_id  parent_id  comment_id  \\\n",
       "0             1        NaN         NaN   \n",
       "1             2        NaN         NaN   \n",
       "2             3        NaN         NaN   \n",
       "3             4        NaN         NaN   \n",
       "4             6        NaN         NaN   \n",
       "...         ...        ...         ...   \n",
       "812127   279994        NaN    536471.0   \n",
       "812128   279998        NaN    536439.0   \n",
       "812129   279998        NaN    536514.0   \n",
       "812130   279999        NaN    536802.0   \n",
       "812131   279999        NaN    542550.0   \n",
       "\n",
       "                                                     text category  \n",
       "0                           eliciting priors from experts    title  \n",
       "1                                       what is normality    title  \n",
       "2       what are some valuable statistical analysis op...    title  \n",
       "3       assessing the significance of differences in d...    title  \n",
       "4         the two cultures statistics vs machine learning    title  \n",
       "...                                                   ...      ...  \n",
       "812127  it does run  and gives very valid looking esti...  comment  \n",
       "812128  it seems to me that you are correct  the doubl...  comment  \n",
       "812129  it wouldnt be the first time a grader has miss...  comment  \n",
       "812130  the basic idea is to compare the clustering co...  comment  \n",
       "812131  as per your other question  your data does not...  comment  \n",
       "\n",
       "[812132 rows x 5 columns]"
      ]
     },
     "execution_count": 16,
     "metadata": {},
     "output_type": "execute_result"
    }
   ],
   "source": [
    "df"
   ]
  },
  {
   "cell_type": "markdown",
   "id": "6a52ac0d",
   "metadata": {},
   "source": [
    "## Remove missing values for texts"
   ]
  },
  {
   "cell_type": "code",
   "execution_count": 17,
   "id": "af9c7d61",
   "metadata": {},
   "outputs": [],
   "source": [
    "df = df[df.text.str.len() > 0]"
   ]
  },
  {
   "cell_type": "code",
   "execution_count": 18,
   "id": "acd590e2",
   "metadata": {},
   "outputs": [
    {
     "data": {
      "text/html": [
       "<div>\n",
       "<style scoped>\n",
       "    .dataframe tbody tr th:only-of-type {\n",
       "        vertical-align: middle;\n",
       "    }\n",
       "\n",
       "    .dataframe tbody tr th {\n",
       "        vertical-align: top;\n",
       "    }\n",
       "\n",
       "    .dataframe thead th {\n",
       "        text-align: right;\n",
       "    }\n",
       "</style>\n",
       "<table border=\"1\" class=\"dataframe\">\n",
       "  <thead>\n",
       "    <tr style=\"text-align: right;\">\n",
       "      <th></th>\n",
       "      <th>post_id</th>\n",
       "      <th>parent_id</th>\n",
       "      <th>comment_id</th>\n",
       "      <th>text</th>\n",
       "      <th>category</th>\n",
       "    </tr>\n",
       "  </thead>\n",
       "  <tbody>\n",
       "  </tbody>\n",
       "</table>\n",
       "</div>"
      ],
      "text/plain": [
       "Empty DataFrame\n",
       "Columns: [post_id, parent_id, comment_id, text, category]\n",
       "Index: []"
      ]
     },
     "execution_count": 18,
     "metadata": {},
     "output_type": "execute_result"
    }
   ],
   "source": [
    "df[df.text.str.len() == 0]"
   ]
  },
  {
   "cell_type": "code",
   "execution_count": 19,
   "id": "f9213774",
   "metadata": {},
   "outputs": [],
   "source": [
    "# remove multiple spaces\n",
    "df['text'] = df.text.apply(lambda t : re.sub(\"\\s\\s+\",' ', t) )\n",
    "\n",
    "# remove trailing spaces with strip()\n",
    "df['text'] = df.text.apply(lambda t : t.strip() )"
   ]
  },
  {
   "cell_type": "markdown",
   "id": "7d4fd55d",
   "metadata": {},
   "source": [
    "## Remove texts that are extremely large or too short to bring any information to the model. "
   ]
  },
  {
   "cell_type": "markdown",
   "id": "cec1fe37",
   "metadata": {},
   "source": [
    "We want to keep paragraphs that contain at least a few words and remove the paragraphs that are composed of large numerical tables."
   ]
  },
  {
   "cell_type": "code",
   "execution_count": 98,
   "id": "19607e48",
   "metadata": {},
   "outputs": [
    {
     "data": {
      "text/plain": [
       "27        15\n",
       "40        17\n",
       "64        20\n",
       "89        17\n",
       "103       17\n",
       "          ..\n",
       "812127    39\n",
       "812128    67\n",
       "812129    23\n",
       "812130    79\n",
       "812131    21\n",
       "Name: text, Length: 596452, dtype: int64"
      ]
     },
     "execution_count": 98,
     "metadata": {},
     "output_type": "execute_result"
    }
   ],
   "source": [
    "df[df.text.str.len() > 100].text.str.split().map(lambda x: len(x))"
   ]
  },
  {
   "cell_type": "code",
   "execution_count": 21,
   "id": "0901ca3f",
   "metadata": {},
   "outputs": [],
   "source": [
    "df = df[df.text.str.split().map(lambda x: len(x) > 4 & len(x) < 5000)]"
   ]
  },
  {
   "cell_type": "code",
   "execution_count": null,
   "id": "741ada26",
   "metadata": {},
   "outputs": [],
   "source": [
    "from nltk.tokenize import WordPunctTokenizer\n",
    "tokenizer = WordPunctTokenizer()\n",
    "df['tokens'] = df.text.apply(lambda t : tokenizer.tokenize(t.lower())) \n",
    "\n",
    "df = df[(df.n_tokens > 4) & (df.n_tokens < 5000)].reset_index(drop = True)\n",
    "df.shape"
   ]
  },
  {
   "cell_type": "markdown",
   "id": "b1ac767a",
   "metadata": {},
   "source": [
    "## Use a tokenizer to create a version of the original text that is a string of space-separated lowercase tokens. For instance,"
   ]
  },
  {
   "cell_type": "markdown",
   "id": "78dda152",
   "metadata": {},
   "source": [
    "- Thank you!, This equation y = ax + by=ax+b, is very helpful.\n",
    "  would be transformed as:\n",
    "\n",
    "  thank you ! this equation , is very helpful .\n",
    "  \n",
    "\n",
    "- “retrieve a distance matrix” is a matter of coding. \n",
    "  It also might be irrelevant: one can imagine creative answers.\n",
    "\n",
    "  becomes, if you choose to remove double quotes from the original text:\n",
    "\n",
    "  retrieve a distance matrix is a matter of coding . it also might be irrelevant : one can imagine creative answers .\n",
    "  \n",
    "Note that punctuation signs (, . : !) are also represented as tokens"
   ]
  },
  {
   "cell_type": "code",
   "execution_count": 22,
   "id": "1b130eb3",
   "metadata": {},
   "outputs": [],
   "source": [
    "from nltk import word_tokenize\n",
    "from nltk import Text"
   ]
  },
  {
   "cell_type": "code",
   "execution_count": 23,
   "id": "dbbe81a1",
   "metadata": {},
   "outputs": [],
   "source": [
    "def space_separated_lower(text):\n",
    "    tokens = word_tokenize(text.lower())\n",
    "    return \" \".join(list(filter(lambda x: x not in ['“', \"”\"], tokens)))"
   ]
  },
  {
   "cell_type": "code",
   "execution_count": 148,
   "id": "51cc5a2b",
   "metadata": {},
   "outputs": [
    {
     "data": {
      "text/plain": [
       "'retrieve a distance matrix is a matter of coding . it also might be irrelevant : one can imagine creative answers .'"
      ]
     },
     "execution_count": 148,
     "metadata": {},
     "output_type": "execute_result"
    }
   ],
   "source": [
    "text = '“retrieve a distance matrix” is a matter of coding. It also might be irrelevant: one can imagine creative answers.'\n",
    "space_separated_lower(text)"
   ]
  },
  {
   "cell_type": "code",
   "execution_count": 151,
   "id": "c7ef6473",
   "metadata": {},
   "outputs": [
    {
     "data": {
      "text/plain": [
       "'thank you ! , this equation y = ax + by=ax+b , is very helpful'"
      ]
     },
     "execution_count": 151,
     "metadata": {},
     "output_type": "execute_result"
    }
   ],
   "source": [
    "text = \"Thank you!, This equation y = ax + by=ax+b, is very helpful\"\n",
    "space_separated_lower(text)"
   ]
  },
  {
   "cell_type": "code",
   "execution_count": 153,
   "id": "c37594dd",
   "metadata": {},
   "outputs": [
    {
     "data": {
      "text/plain": [
       "'Thank you!, This equation y = ax + by=ax+b, is very helpful'"
      ]
     },
     "execution_count": 153,
     "metadata": {},
     "output_type": "execute_result"
    }
   ],
   "source": [
    "re.sub('(\\\\d+)\\\\s*([+\\\\-*\\\\/])\\\\s*(\\\\d+)', '', text)"
   ]
  },
  {
   "cell_type": "code",
   "execution_count": 32,
   "id": "c664aeb5",
   "metadata": {},
   "outputs": [],
   "source": [
    "df['tokens'] = df.text.apply(space_separated_lower)"
   ]
  },
  {
   "cell_type": "code",
   "execution_count": 33,
   "id": "0c3b1234",
   "metadata": {},
   "outputs": [
    {
     "name": "stdout",
     "output_type": "stream",
     "text": [
      "<class 'pandas.core.frame.DataFrame'>\n",
      "Int64Index: 801673 entries, 1 to 812131\n",
      "Data columns (total 6 columns):\n",
      " #   Column      Non-Null Count   Dtype  \n",
      "---  ------      --------------   -----  \n",
      " 0   post_id     801673 non-null  int64  \n",
      " 1   parent_id   75518 non-null   float64\n",
      " 2   comment_id  548180 non-null  float64\n",
      " 3   text        801673 non-null  object \n",
      " 4   category    801673 non-null  object \n",
      " 5   tokens      801673 non-null  object \n",
      "dtypes: float64(2), int64(1), object(3)\n",
      "memory usage: 42.8+ MB\n"
     ]
    }
   ],
   "source": [
    "df.info()"
   ]
  },
  {
   "cell_type": "code",
   "execution_count": 27,
   "id": "c9293e73",
   "metadata": {},
   "outputs": [
    {
     "data": {
      "text/html": [
       "<div>\n",
       "<style scoped>\n",
       "    .dataframe tbody tr th:only-of-type {\n",
       "        vertical-align: middle;\n",
       "    }\n",
       "\n",
       "    .dataframe tbody tr th {\n",
       "        vertical-align: top;\n",
       "    }\n",
       "\n",
       "    .dataframe thead th {\n",
       "        text-align: right;\n",
       "    }\n",
       "</style>\n",
       "<table border=\"1\" class=\"dataframe\">\n",
       "  <thead>\n",
       "    <tr style=\"text-align: right;\">\n",
       "      <th></th>\n",
       "      <th>post_id</th>\n",
       "      <th>parent_id</th>\n",
       "      <th>comment_id</th>\n",
       "      <th>text</th>\n",
       "      <th>category</th>\n",
       "    </tr>\n",
       "  </thead>\n",
       "  <tbody>\n",
       "    <tr>\n",
       "      <th>450430</th>\n",
       "      <td>423338</td>\n",
       "      <td>NaN</td>\n",
       "      <td>790157.0</td>\n",
       "      <td>yearly the survey is conducted once every year</td>\n",
       "      <td>comment</td>\n",
       "    </tr>\n",
       "    <tr>\n",
       "      <th>594006</th>\n",
       "      <td>317935</td>\n",
       "      <td>NaN</td>\n",
       "      <td>603835.0</td>\n",
       "      <td>i edited the question hope i make sense now ju...</td>\n",
       "      <td>comment</td>\n",
       "    </tr>\n",
       "    <tr>\n",
       "      <th>799386</th>\n",
       "      <td>269025</td>\n",
       "      <td>NaN</td>\n",
       "      <td>514540.0</td>\n",
       "      <td>matthewgunn on the other hand these are questi...</td>\n",
       "      <td>comment</td>\n",
       "    </tr>\n",
       "    <tr>\n",
       "      <th>544880</th>\n",
       "      <td>163206</td>\n",
       "      <td>NaN</td>\n",
       "      <td>310305.0</td>\n",
       "      <td>can you suggest an example where an observatio...</td>\n",
       "      <td>comment</td>\n",
       "    </tr>\n",
       "    <tr>\n",
       "      <th>208043</th>\n",
       "      <td>114875</td>\n",
       "      <td>114860.0</td>\n",
       "      <td>NaN</td>\n",
       "      <td>say you have categories a b c d it turns out t...</td>\n",
       "      <td>post</td>\n",
       "    </tr>\n",
       "    <tr>\n",
       "      <th>...</th>\n",
       "      <td>...</td>\n",
       "      <td>...</td>\n",
       "      <td>...</td>\n",
       "      <td>...</td>\n",
       "      <td>...</td>\n",
       "    </tr>\n",
       "    <tr>\n",
       "      <th>381639</th>\n",
       "      <td>76717</td>\n",
       "      <td>NaN</td>\n",
       "      <td>150014.0</td>\n",
       "      <td>alan my earlier version omitted an important t...</td>\n",
       "      <td>comment</td>\n",
       "    </tr>\n",
       "    <tr>\n",
       "      <th>601919</th>\n",
       "      <td>83611</td>\n",
       "      <td>NaN</td>\n",
       "      <td>163947.0</td>\n",
       "      <td>can you expand on the statement that you were ...</td>\n",
       "      <td>comment</td>\n",
       "    </tr>\n",
       "    <tr>\n",
       "      <th>400271</th>\n",
       "      <td>180742</td>\n",
       "      <td>NaN</td>\n",
       "      <td>349837.0</td>\n",
       "      <td>lol anyway saz admitted hes wrong thanks</td>\n",
       "      <td>comment</td>\n",
       "    </tr>\n",
       "    <tr>\n",
       "      <th>433831</th>\n",
       "      <td>409668</td>\n",
       "      <td>NaN</td>\n",
       "      <td>765634.0</td>\n",
       "      <td>that clarifies things for me thank you</td>\n",
       "      <td>comment</td>\n",
       "    </tr>\n",
       "    <tr>\n",
       "      <th>155899</th>\n",
       "      <td>439498</td>\n",
       "      <td>439495.0</td>\n",
       "      <td>NaN</td>\n",
       "      <td>ttest is appropriate if you believe that your ...</td>\n",
       "      <td>post</td>\n",
       "    </tr>\n",
       "  </tbody>\n",
       "</table>\n",
       "<p>1000 rows × 5 columns</p>\n",
       "</div>"
      ],
      "text/plain": [
       "        post_id  parent_id  comment_id  \\\n",
       "450430   423338        NaN    790157.0   \n",
       "594006   317935        NaN    603835.0   \n",
       "799386   269025        NaN    514540.0   \n",
       "544880   163206        NaN    310305.0   \n",
       "208043   114875   114860.0         NaN   \n",
       "...         ...        ...         ...   \n",
       "381639    76717        NaN    150014.0   \n",
       "601919    83611        NaN    163947.0   \n",
       "400271   180742        NaN    349837.0   \n",
       "433831   409668        NaN    765634.0   \n",
       "155899   439498   439495.0         NaN   \n",
       "\n",
       "                                                     text category  \n",
       "450430     yearly the survey is conducted once every year  comment  \n",
       "594006  i edited the question hope i make sense now ju...  comment  \n",
       "799386  matthewgunn on the other hand these are questi...  comment  \n",
       "544880  can you suggest an example where an observatio...  comment  \n",
       "208043  say you have categories a b c d it turns out t...     post  \n",
       "...                                                   ...      ...  \n",
       "381639  alan my earlier version omitted an important t...  comment  \n",
       "601919  can you expand on the statement that you were ...  comment  \n",
       "400271           lol anyway saz admitted hes wrong thanks  comment  \n",
       "433831             that clarifies things for me thank you  comment  \n",
       "155899  ttest is appropriate if you believe that your ...     post  \n",
       "\n",
       "[1000 rows x 5 columns]"
      ]
     },
     "execution_count": 27,
     "metadata": {},
     "output_type": "execute_result"
    }
   ],
   "source": [
    "df.sample(1000)"
   ]
  },
  {
   "cell_type": "code",
   "execution_count": 34,
   "id": "3f12b8cf",
   "metadata": {},
   "outputs": [],
   "source": [
    "import csv\n",
    "df.to_csv(\"../data/stackexchange_cleaned.csv\", quoting = csv.QUOTE_ALL, index = False)"
   ]
  },
  {
   "cell_type": "code",
   "execution_count": null,
   "id": "4da0ba82",
   "metadata": {},
   "outputs": [],
   "source": []
  }
 ],
 "metadata": {
  "kernelspec": {
   "display_name": "Python 3 (ipykernel)",
   "language": "python",
   "name": "python3"
  },
  "language_info": {
   "codemirror_mode": {
    "name": "ipython",
    "version": 3
   },
   "file_extension": ".py",
   "mimetype": "text/x-python",
   "name": "python",
   "nbconvert_exporter": "python",
   "pygments_lexer": "ipython3",
   "version": "3.9.1+"
  }
 },
 "nbformat": 4,
 "nbformat_minor": 5
}
